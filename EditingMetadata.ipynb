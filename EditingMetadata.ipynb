{
 "cells": [
  {
   "cell_type": "markdown",
   "metadata": {},
   "source": [
    "http://www.litster.org/blog/2010/05/30/python-and-exif-metadata-theres-more-than-one-way-to-do-it/\n",
    "\n",
    "http://piexif.readthedocs.io/en/latest/functions.html"
   ]
  },
  {
   "cell_type": "code",
   "execution_count": 1,
   "metadata": {
    "collapsed": false
   },
   "outputs": [],
   "source": [
    "import os\n",
    "import datetime as dt\n",
    "import re\n",
    "import piexif\n",
    "from PIL.ExifTags import TAGS"
   ]
  },
  {
   "cell_type": "code",
   "execution_count": 2,
   "metadata": {
    "collapsed": false
   },
   "outputs": [],
   "source": [
    "def list_dir_jpeg(basedir=os.path.curdir):\n",
    "    jpeg_files = []\n",
    "    other_files = []\n",
    "    sub_dirs = []\n",
    "    for item in os.listdir(basedir):\n",
    "        abs_path = os.path.join(basedir,item)\n",
    "        if os.path.isfile(abs_path):\n",
    "            if re.search('(\\.JPG)',item):\n",
    "                jpeg_files.append(abs_path)\n",
    "            else:\n",
    "                other_files.append(abs_path)\n",
    "        else:\n",
    "            sub_dirs.append(abs_path)\n",
    "    return (jpeg_files,other_files,sub_dirs)"
   ]
  },
  {
   "cell_type": "code",
   "execution_count": 3,
   "metadata": {
    "collapsed": false
   },
   "outputs": [],
   "source": [
    "def modify_jpeg_exif_datetimes(filename,td):\n",
    "    exif_dict = piexif.load(filename)\n",
    "    for key in exif_dict.keys():\n",
    "        if type(exif_dict[key]) == dict:\n",
    "            for item in exif_dict[key].keys():\n",
    "                tag = TAGS.get(item,item)\n",
    "                if 'Date' in str(tag):\n",
    "                    old_date_string = exif_dict[key][item]\n",
    "                    old_date_dt = dt.datetime.strptime(old_date_string,\"%Y:%m:%d %H:%M:%S\")\n",
    "                    ndt = old_date_dt + dt.timedelta(days=td[0],hours=td[1],minutes=td[2],seconds=td[3])\n",
    "                    new_date_string = '{:%Y:%m:%d %H:%M:%S}'.format(ndt)\n",
    "                    exif_dict[key][item] = new_date_string\n",
    "    piexif.insert(piexif.dump(exif_dict),filename)\n"
   ]
  },
  {
   "cell_type": "code",
   "execution_count": 32,
   "metadata": {
    "collapsed": false
   },
   "outputs": [],
   "source": [
    "def modify_jpeg_dates(directory=os.curdir,days=0,hours=0,minutes=0,seconds=0):\n",
    "    td = [days,hours,minutes,seconds]\n",
    "    jpegs,others,subdirs = list_dir_jpeg(directory)\n",
    "    \n",
    "    print '=JPEG-EXIF-DATETIME-MODIFIER'+ '='*12\n",
    "    print 'Ignored files:', len(others)\n",
    "    print 'Ignored sub directories:', len(subdirs)\n",
    "    print 'JPEG files to be edited:', len(jpegs)\n",
    "    print '='*40\n",
    "    if len(jpegs) == 0:\n",
    "        print 'There are no \"*.JPG\" files in supplied directory!'\n",
    "        print '='*40\n",
    "    else:\n",
    "        print 'JPEG Metadata to be offset as follows:'\n",
    "        print 'Days:'+str(td[0])+'|'+'Hours:'+str(td[1])+'|'+'Minutes:'+str(td[2])+'|'+'Seconds:'+str(td[3])\n",
    "        print '='*40\n",
    "        print 'Editing JPEG Metadata...'\n",
    "        for pic in jpegs:\n",
    "            print ' '*2 + os.path.basename(pic)\n",
    "            modify_jpeg_exif_datetimes(pic,td)\n",
    "        print '='*40\n",
    "        print 'Editing Complete!', str(len(jpegs)), 'files modified.'\n",
    "        print '='*40"
   ]
  },
  {
   "cell_type": "code",
   "execution_count": 33,
   "metadata": {
    "collapsed": false
   },
   "outputs": [
    {
     "name": "stdout",
     "output_type": "stream",
     "text": [
      "=JPEG-EXIF-DATETIME-MODIFIER============\n",
      "Ignored files: 1\n",
      "Ignored sub directories: 2\n",
      "JPEG files to be edited: 0\n",
      "========================================\n",
      "There are no \"*.JPG\" files in supplied directory!\n",
      "========================================\n"
     ]
    }
   ],
   "source": [
    "modify_jpeg_dates(directory=os.path.curdir)"
   ]
  },
  {
   "cell_type": "code",
   "execution_count": 35,
   "metadata": {
    "collapsed": true
   },
   "outputs": [],
   "source": [
    "import argparse"
   ]
  },
  {
   "cell_type": "code",
   "execution_count": 36,
   "metadata": {
    "collapsed": false
   },
   "outputs": [
    {
     "data": {
      "text/plain": [
       "ArgumentParser(prog='__main__.py', usage=None, description=\"Apply a timedelta transformation to the EXIF metadata of a supplied directory's JPEG files\", version=None, formatter_class=<class 'argparse.HelpFormatter'>, conflict_handler='error', add_help=True)"
      ]
     },
     "execution_count": 36,
     "metadata": {},
     "output_type": "execute_result"
    }
   ],
   "source": [
    "argparse.ArgumentParser(description=\"Apply a timedelta transformation to the EXIF metadata of a supplied directory's JPEG files\")"
   ]
  },
  {
   "cell_type": "code",
   "execution_count": null,
   "metadata": {
    "collapsed": true
   },
   "outputs": [],
   "source": []
  }
 ],
 "metadata": {
  "kernelspec": {
   "display_name": "Python 2",
   "language": "python",
   "name": "python2"
  },
  "language_info": {
   "codemirror_mode": {
    "name": "ipython",
    "version": 2
   },
   "file_extension": ".py",
   "mimetype": "text/x-python",
   "name": "python",
   "nbconvert_exporter": "python",
   "pygments_lexer": "ipython2",
   "version": "2.7.11"
  },
  "widgets": {
   "state": {},
   "version": "1.1.2"
  }
 },
 "nbformat": 4,
 "nbformat_minor": 0
}
